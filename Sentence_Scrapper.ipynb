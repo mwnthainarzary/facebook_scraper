{
 "cells": [
  {
   "cell_type": "code",
   "execution_count": 3,
   "id": "e3e7c17a",
   "metadata": {},
   "outputs": [],
   "source": [
    "pip install facebook-scraper"
   ]
  },
  {
   "cell_type": "code",
   "execution_count": 1,
   "id": "534c6bec",
   "metadata": {},
   "outputs": [],
   "source": [
    "from facebook_scraper import get_posts\n",
    "import pandas as pd\n",
    "import seaborn as sns"
   ]
  },
  {
   "cell_type": "code",
   "execution_count": 1,
   "id": "6e3e863b",
   "metadata": {},
   "outputs": [],
   "source": [
    "pageName = 'Bodolandradab1'\n",
    "sentence = []\n",
    "for post in get_posts(pageName, pages=1, options={'comments': True}, extra_info=True):\n",
    "    post_entry = post\n",
    "    comments = post['comments_full']\n",
    "  \n",
    "    final = {}\n",
    "#     print(comments)\n",
    "    for comment in comments:\n",
    "        if len(comment) != 0:\n",
    "            sentence.append(comment['comment_text'])\n",
    "\n",
    "print(sentence)\n"
   ]
  },
  {
   "cell_type": "code",
   "execution_count": 2,
   "id": "b8ee8cca",
   "metadata": {},
   "outputs": [],
   "source": [
    "pageName = 'DigitalBodoland'\n",
    "for post in get_posts(pageName, cookies=\"C:\\\\Users\\\\M.Narzary\\\\Desktop\\\\cookie.txt\", pages=50, options={'comments': True}, extra_info=True):\n",
    "#     print(post_title)\n",
    "    get = post\n",
    "    comments = get['comments_full']\n",
    "#     print(comments)\n",
    "    for comment in comments:\n",
    "        print(comment['comment_text'])\n",
    "        \n",
    "        "
   ]
  },
  {
   "cell_type": "code",
   "execution_count": null,
   "id": "6fd5c1b2",
   "metadata": {},
   "outputs": [],
   "source": []
  }
 ],
 "metadata": {
  "kernelspec": {
   "display_name": "Python 3.8.8 ('base')",
   "language": "python",
   "name": "python3"
  },
  "language_info": {
   "codemirror_mode": {
    "name": "ipython",
    "version": 3
   },
   "file_extension": ".py",
   "mimetype": "text/x-python",
   "name": "python",
   "nbconvert_exporter": "python",
   "pygments_lexer": "ipython3",
   "version": "3.8.8"
  },
  "vscode": {
   "interpreter": {
    "hash": "6f8fa94cf37b2d936a49f3da7e8a8e9f86f98ccfa64b79c6305691bb72edbd13"
   }
  }
 },
 "nbformat": 4,
 "nbformat_minor": 5
}
